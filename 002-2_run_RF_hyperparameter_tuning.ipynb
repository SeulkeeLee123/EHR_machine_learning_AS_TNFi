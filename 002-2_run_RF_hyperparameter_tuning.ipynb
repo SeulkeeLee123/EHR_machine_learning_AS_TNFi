{
 "cells": [
  {
   "cell_type": "code",
   "execution_count": null,
   "metadata": {},
   "outputs": [],
   "source": [
    "n_tree = [10,30,100,300,1000]\n",
    "n_max_depth = [2,3,4,5,7,10, 'None']\n",
    "n_min_samples_split = [2,3,4,5]\n",
    "n_min_samples_leaf = [1,2,3,4,5]\n",
    "iteration = [1,2,3]\n",
    "\n",
    "import os\n",
    "\n",
    "for i in n_tree:\n",
    "    for j in n_max_depth:\n",
    "        for k in n_min_samples_split:\n",
    "            for l in n_min_samples_leaf:\n",
    "                for m in iteration:\n",
    "                    cmd = 'ipython 002_RF_hyperparameter_tuning.ipynb {0} {1} {2} {3} {4}'.format(i, j, k, l, m)\n",
    "                    print(cmd)\n",
    "                    os.system(cmd)"
   ]
  }
 ],
 "metadata": {
  "kernelspec": {
   "display_name": "Python 3",
   "language": "python",
   "name": "python3"
  },
  "language_info": {
   "codemirror_mode": {
    "name": "ipython",
    "version": 3
   },
   "file_extension": ".py",
   "mimetype": "text/x-python",
   "name": "python",
   "nbconvert_exporter": "python",
   "pygments_lexer": "ipython3",
   "version": "3.7.5"
  }
 },
 "nbformat": 4,
 "nbformat_minor": 2
}
