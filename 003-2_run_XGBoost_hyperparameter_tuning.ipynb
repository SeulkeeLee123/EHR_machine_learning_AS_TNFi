{
 "cells": [
  {
   "cell_type": "code",
   "execution_count": null,
   "metadata": {},
   "outputs": [],
   "source": [
    "eta = [0.01, 0.03, 0.1, 0.3, 0.6]\n",
    "gamma = [0,0.1,0.3,1,3,10]\n",
    "n_max_depth = [1,2,3,6,9,12]\n",
    "n_lambda = [1]\n",
    "n_alpha = [0]\n",
    "iteration = [1,2,3]\n",
    "\n",
    "import os\n",
    "\n",
    "for i in eta:\n",
    "    for j in gamma:\n",
    "        for k in n_max_depth:\n",
    "            for l in n_lambda:\n",
    "                for m in n_alpha:\n",
    "                    for n in iteration:\n",
    "                        cmd = 'ipython 003_XGBoost_hyperparameter_tuning.ipynb {0} {1} {2} {3} {4} {5}'.format(i, j, k, l, m, n)\n",
    "                        print(cmd)\n",
    "                        os.system(cmd)"
   ]
  }
 ],
 "metadata": {
  "kernelspec": {
   "display_name": "Python 3",
   "language": "python",
   "name": "python3"
  },
  "language_info": {
   "codemirror_mode": {
    "name": "ipython",
    "version": 3
   },
   "file_extension": ".py",
   "mimetype": "text/x-python",
   "name": "python",
   "nbconvert_exporter": "python",
   "pygments_lexer": "ipython3",
   "version": "3.7.5"
  }
 },
 "nbformat": 4,
 "nbformat_minor": 2
}
