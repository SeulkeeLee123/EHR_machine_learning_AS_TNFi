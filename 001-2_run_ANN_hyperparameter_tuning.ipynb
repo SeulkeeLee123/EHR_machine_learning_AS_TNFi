{
 "cells": [
  {
   "cell_type": "code",
   "execution_count": null,
   "metadata": {},
   "outputs": [],
   "source": [
    "n_nodes = [20,30,40,50,60,80,100]\n",
    "n_layers = [1,2,3,5,7,10]\n",
    "lr = [0.0003, 0.0001, 0.00003, 0.00001]\n",
    "n_batch = [10,20]\n",
    "n_epochs = [100,200]\n",
    "n_cv = 3\n",
    "iteration = [1,2,3]\n",
    "\n",
    "import os\n",
    "\n",
    "for i in n_nodes:\n",
    "        for j in n_layers:\n",
    "                for k in lr:\n",
    "                        for l in n_batch:\n",
    "                                for m in n_epochs:\n",
    "                                        for n in iteration:\n",
    "                                                cmd = 'ipython 40_revision_ANN.ipynb %i %i %f %i %i %i %i' % (i,j,k,l,m,n_cv,n)\n",
    "                                                os.system(cmd)"
   ]
  }
 ],
 "metadata": {
  "kernelspec": {
   "display_name": "Python 3",
   "language": "python",
   "name": "python3"
  },
  "language_info": {
   "codemirror_mode": {
    "name": "ipython",
    "version": 3
   },
   "file_extension": ".py",
   "mimetype": "text/x-python",
   "name": "python",
   "nbconvert_exporter": "python",
   "pygments_lexer": "ipython3",
   "version": "3.7.5"
  }
 },
 "nbformat": 4,
 "nbformat_minor": 2
}
